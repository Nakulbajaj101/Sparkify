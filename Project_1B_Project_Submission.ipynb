{
 "cells": [
  {
   "cell_type": "markdown",
   "metadata": {
    "editable": true
   },
   "source": [
    "# Part I. ETL Pipeline for Pre-Processing the Files"
   ]
  },
  {
   "cell_type": "markdown",
   "metadata": {
    "editable": true
   },
   "source": [
    "#### Import Python packages "
   ]
  },
  {
   "cell_type": "code",
   "execution_count": 1,
   "metadata": {
    "editable": true
   },
   "outputs": [],
   "source": [
    "import csv\n",
    "import os\n",
    "import glob\n",
    "import pandas as pd"
   ]
  },
  {
   "cell_type": "markdown",
   "metadata": {
    "editable": true
   },
   "source": [
    "## Create file paths that contain the data for events"
   ]
  },
  {
   "cell_type": "code",
   "execution_count": 2,
   "metadata": {
    "editable": true
   },
   "outputs": [],
   "source": [
    "#root or workspace directory\n",
    "root_dir = os.getcwd()\n",
    "\n",
    "#directory for events data \n",
    "events_dir = root_dir + '/event_data'\n",
    "\n",
    "#get all file paths in a list that contain events data in csv by looping over directory path\n",
    "for root, dirs, files in os.walk(events_dir):\n",
    "    #using glob to join all the file paths in a list\n",
    "    files = glob.glob(os.path.join(root,'*.csv'))"
   ]
  },
  {
   "cell_type": "markdown",
   "metadata": {
    "editable": true
   },
   "source": [
    "## Process the files and collect all the rows"
   ]
  },
  {
   "cell_type": "code",
   "execution_count": 3,
   "metadata": {
    "editable": true
   },
   "outputs": [],
   "source": [
    "#initialise an empty list to hold each row\n",
    "data_rows = []\n",
    "for file in files:\n",
    "    with open(file, 'r', newline='', encoding='utf-8') as csvfile:\n",
    "        csvreader = csv.reader(csvfile)\n",
    "        \n",
    "        #skip the header\n",
    "        next(csvreader) \n",
    "        \n",
    "        #add rows to the data_rows list\n",
    "        for row in csvreader:\n",
    "            data_rows.append(row)"
   ]
  },
  {
   "cell_type": "markdown",
   "metadata": {
    "editable": true
   },
   "source": [
    "## Creating event data csv file called event_datafile_full.csv that will be used to insert data into the Apache Cassandra tables"
   ]
  },
  {
   "cell_type": "code",
   "execution_count": 4,
   "metadata": {
    "editable": true
   },
   "outputs": [],
   "source": [
    "#Creating a dialect formatter that will quote all the fields and ignore if any column has white space\n",
    "csv.register_dialect('myDialect', quoting=csv.QUOTE_ALL, skipinitialspace=True)            \n",
    "\n",
    "with open('event_datafile_new.csv', 'w', encoding = 'utf8', newline='') as f:\n",
    "    csvwriter = csv.writer(f,dialect='myDialect')\n",
    "    \n",
    "    #writing the header row\n",
    "    csvwriter.writerow(['artist','firstName','gender','itemInSession','lastName','length',\\\n",
    "                'level','location','sessionId','song','userId'])\n",
    "    \n",
    "    \n",
    "    for row in data_rows:\n",
    "        \n",
    "        #filter any rows that has empty artist name\n",
    "        if (row[0] == ''):\n",
    "            continue\n",
    "            \n",
    "        csvwriter.writerow((row[0], row[2], row[3], row[4], row[5], row[6], row[7], row[8], row[12], row[13], row[16]))"
   ]
  },
  {
   "cell_type": "code",
   "execution_count": 5,
   "metadata": {
    "editable": true
   },
   "outputs": [
    {
     "name": "stdout",
     "output_type": "stream",
     "text": [
      "Length of the file excluding header rows: 6820\n"
     ]
    }
   ],
   "source": [
    "#checking length of the data or number of rows in the file created\n",
    "with open('event_datafile_new.csv', 'r', encoding = 'utf8') as f:\n",
    "    data_length = sum([1 for line in f]) - 1\n",
    "    print(\"Length of the file excluding header rows: {}\".format(data_length))"
   ]
  },
  {
   "cell_type": "markdown",
   "metadata": {
    "editable": true
   },
   "source": [
    "# Part II. Complete the Apache Cassandra coding portion of your project. \n",
    "\n",
    "## Now you are ready to work with the CSV file titled <font color=red>event_datafile_new.csv</font>, located within the Workspace directory.  The event_datafile_new.csv contains the following columns: \n",
    "- artist \n",
    "- firstName of user\n",
    "- gender of user\n",
    "- item number in session\n",
    "- last name of user\n",
    "- length of the song\n",
    "- level (paid or free song)\n",
    "- location of the user\n",
    "- sessionId\n",
    "- song title\n",
    "- userId\n",
    "\n",
    "The image below is a screenshot of what the denormalized data should appear like in the <font color=red>**event_datafile_new.csv**</font> after the code above is run:<br>\n",
    "\n",
    "<img src=\"images/image_event_datafile_new.jpg\">"
   ]
  },
  {
   "cell_type": "markdown",
   "metadata": {
    "editable": true
   },
   "source": [
    "## Begin writing your Apache Cassandra code in the cells below"
   ]
  },
  {
   "cell_type": "markdown",
   "metadata": {
    "editable": true
   },
   "source": [
    "#### Creating a Cluster"
   ]
  },
  {
   "cell_type": "code",
   "execution_count": 6,
   "metadata": {
    "editable": true
   },
   "outputs": [],
   "source": [
    "# This should make a connection to a Cassandra instance your local machine \n",
    "# (127.0.0.1)\n",
    "\n",
    "from cassandra.cluster import Cluster\n",
    "cluster = Cluster()\n",
    "\n",
    "# To establish connection and begin executing queries, need a session\n",
    "session = cluster.connect()"
   ]
  },
  {
   "cell_type": "markdown",
   "metadata": {
    "editable": true
   },
   "source": [
    "#### Create Keyspace"
   ]
  },
  {
   "cell_type": "code",
   "execution_count": 7,
   "metadata": {
    "editable": true
   },
   "outputs": [],
   "source": [
    "# Creating a Keyspace music for the project with single node\n",
    "try:\n",
    "    session.execute(\" CREATE KEYSPACE IF NOT EXISTS music \\\n",
    "                    WITH REPLICATION = {'class':'SimpleStrategy','replication_factor': 1}\\\n",
    "                    \")\n",
    "except Exception as e:\n",
    "    print(e)"
   ]
  },
  {
   "cell_type": "markdown",
   "metadata": {
    "editable": true
   },
   "source": [
    "#### Set Keyspace"
   ]
  },
  {
   "cell_type": "code",
   "execution_count": 8,
   "metadata": {
    "editable": true
   },
   "outputs": [],
   "source": [
    "# Setting a Keyspace to music to only operate and associate queries within that keyspace\n",
    "try:\n",
    "    session.set_keyspace(\"music\")\n",
    "except Exception as e:\n",
    "    print(e)"
   ]
  },
  {
   "cell_type": "markdown",
   "metadata": {
    "editable": true
   },
   "source": [
    "### Now we need to create tables to run the following queries. Remember, with Apache Cassandra you model the database tables on the queries you want to run."
   ]
  },
  {
   "cell_type": "markdown",
   "metadata": {
    "editable": true
   },
   "source": [
    "## Create queries to ask the following three questions of the data\n",
    "\n",
    "### 1. Give me the artist, song title and song's length in the music app history that was heard during  sessionId = 338, and itemInSession  = 4\n",
    "\n",
    "\n",
    "### 2. Give me only the following: name of artist, song (sorted by itemInSession) and user (first and last name) for userid = 10, sessionid = 182\n",
    "    \n",
    "\n",
    "### 3. Give me every user name (first and last) in my music app history who listened to the song 'All Hands Against His Own'"
   ]
  },
  {
   "cell_type": "code",
   "execution_count": 9,
   "metadata": {
    "editable": true
   },
   "outputs": [],
   "source": [
    "#Creating table music_sessions to answer question 1\n",
    "\n",
    "create_table_query = \"CREATE TABLE IF NOT EXISTS %s \"\n",
    "table_one_schema = \"(sessionId int, itemInSession int, artist text, song text, song_length double, PRIMARY KEY (sessionId, itemInSession))\"\n",
    "full_query = (create_table_query + table_one_schema) % (\"music_sessions\")\n",
    "try:\n",
    "    session.execute(full_query)\n",
    "except Exception as e:\n",
    "    print(e)"
   ]
  },
  {
   "cell_type": "code",
   "execution_count": 10,
   "metadata": {
    "editable": true
   },
   "outputs": [],
   "source": [
    "#Creating table user_sessions to answer question 2\n",
    "\n",
    "table_two_schema = \"(userId int, sessionId int, itemInSession int, artist text, song text, firstName text,\\\n",
    "                    lastName text, PRIMARY KEY (userId, sessionId,itemInSession))\"\n",
    "full_query = (create_table_query + table_two_schema) % (\"user_sessions\")\n",
    "try:\n",
    "    session.execute(full_query)\n",
    "except Exception as e:\n",
    "    print(e)"
   ]
  },
  {
   "cell_type": "code",
   "execution_count": 11,
   "metadata": {
    "editable": true
   },
   "outputs": [],
   "source": [
    "#Creating table song_users to answer question 3\n",
    "\n",
    "table_three_schema = \"( song text, sessionId int, itemInSession int, firstName text, lastName text, PRIMARY KEY (song, sessionId, itemInSession))\"\n",
    "full_query = (create_table_query + table_three_schema) % (\"song_users\")\n",
    "try:\n",
    "    session.execute(full_query)\n",
    "except Exception as e:\n",
    "    print(e)"
   ]
  },
  {
   "cell_type": "markdown",
   "metadata": {
    "editable": true
   },
   "source": [
    "#### Inserting data into three tables created"
   ]
  },
  {
   "cell_type": "code",
   "execution_count": 12,
   "metadata": {
    "editable": true
   },
   "outputs": [],
   "source": [
    "file = 'event_datafile_new.csv'\n",
    "\n",
    "with open(file, encoding = 'utf8') as f:\n",
    "    csvreader = csv.reader(f)\n",
    "    next(csvreader) # skip header\n",
    "    for line in csvreader:\n",
    "    \n",
    "    \n",
    "    ## Assigning the INSERT statements into the `query` variable to add data to music_sessions table\n",
    "        query = \"INSERT INTO music_sessions (sessionId, itemInSession, artist, song, song_length) \"\n",
    "        query = query + \"VALUES (%s, %s, %s, %s, %s)\"\n",
    "    \n",
    "        session.execute(query, (int(line[8]), int(line[3]), line[0],line[9],float(line[5])))\n",
    "        ## Assigning the INSERT statements into the `query` variable to add data to user_sessions table\n",
    "        query = \"INSERT INTO user_sessions (userId, sessionId, itemInSession, artist, song, firstName, lastName) \"\n",
    "        query = query + \"VALUES (%s, %s, %s, %s, %s, %s, %s)\"\n",
    "    \n",
    "        session.execute(query, (int(line[10]), int(line[8]), int(line[3]), line[0],line[9],line[1],line[4]))\n",
    "        \n",
    "        ## Assigning the INSERT statements into the `query` variable to add data to song_users table\n",
    "        query = \"INSERT INTO song_users ( song,sessionId, itemInSession, firstName, lastName) \"\n",
    "        query = query + \"VALUES (%s, %s, %s, %s, %s)\"\n",
    "    \n",
    "        session.execute(query, (line[9], int(line[8]), int(line[3]), line[1], line[4]))"
   ]
  },
  {
   "cell_type": "markdown",
   "metadata": {
    "editable": true
   },
   "source": [
    "#### Validating schema definitions against number of rows created"
   ]
  },
  {
   "cell_type": "code",
   "execution_count": 13,
   "metadata": {
    "editable": true
   },
   "outputs": [
    {
     "name": "stdout",
     "output_type": "stream",
     "text": [
      "Unique values in music_sessions table and primary key is correct\n",
      "Unique values in user_sessions table and primary key is correct\n",
      "Unique values in song_users table and primary key is correct\n"
     ]
    }
   ],
   "source": [
    "#checking if correct primary key is created and values are not over written\n",
    "#if value is 6820 we have unique rows\n",
    "\n",
    "unique_rows = data_length\n",
    "counts = session.execute('select count(*) from music_sessions')\n",
    "for cnt in counts:\n",
    "    if cnt.count == unique_rows:\n",
    "        print(\"Unique values in music_sessions table and primary key is correct\")\n",
    "    else:\n",
    "        print(\"Revist primary key and do further analysis before assigning primary key\")\n",
    "\n",
    "        \n",
    "counts = session.execute('select count(*) from user_sessions')\n",
    "for cnt in counts:\n",
    "    if cnt.count == unique_rows:\n",
    "        print(\"Unique values in user_sessions table and primary key is correct\")\n",
    "    else:\n",
    "        print(\"Revist primary key and do further analysis before assigning primary key\")\n",
    "\n",
    "        \n",
    "counts = session.execute('select count(*) from song_users')\n",
    "for cnt in counts:\n",
    "    if cnt.count == unique_rows:\n",
    "        print(\"Unique values in song_users table and primary key is correct\")\n",
    "    else:\n",
    "        print(\"Revist primary key and do further analysis before assigning primary key\")\n"
   ]
  },
  {
   "cell_type": "markdown",
   "metadata": {
    "editable": true
   },
   "source": [
    "#### Do a SELECT to verify that the data have been inserted into each table"
   ]
  },
  {
   "cell_type": "code",
   "execution_count": 14,
   "metadata": {
    "editable": true
   },
   "outputs": [
    {
     "name": "stdout",
     "output_type": "stream",
     "text": [
      "      artist                             song  song_length(mins)\n",
      "0  Faithless  Music Matters (Mark Knight Dub)           8.255122\n"
     ]
    }
   ],
   "source": [
    "#Query 1:  Give me the artist, song title and song's length in the music app history that was heard during \\\n",
    "## sessionId = 338, and itemInSession = 4\n",
    "\n",
    "music_session_query = \"SELECT artist, song, song_length from music_sessions \\\n",
    "                        WHERE sessionId = {} AND itemInSession = {}\".format(338, 4)\n",
    "\n",
    "#Initiating the dataframe with columns\n",
    "music_session_output = pd.DataFrame(columns = ['artist','song', 'song_length(mins)'])\n",
    "\n",
    "try:\n",
    "    data = session.execute(music_session_query) #executing the query\n",
    "    \n",
    "    #appending values of the query to the dataframe\n",
    "    for index, row in enumerate(data):\n",
    "        music_session_output.loc[index] = [row.artist, row.song, row.song_length/60]\n",
    "    \n",
    "    #printing the values\n",
    "    print(music_session_output)\n",
    "except Exception as e:\n",
    "    print(e)"
   ]
  },
  {
   "cell_type": "code",
   "execution_count": 15,
   "metadata": {
    "editable": true
   },
   "outputs": [
    {
     "name": "stdout",
     "output_type": "stream",
     "text": [
      "              artist                                               song  \\\n",
      "0   Down To The Bone                                 Keep On Keepin' On   \n",
      "1       Three Drives                                        Greece 2000   \n",
      "2  Sebastien Tellier                                          Kilometer   \n",
      "3      Lonnie Gordon  Catch You Baby (Steve Pitron & Max Sanna Radio...   \n",
      "\n",
      "  itemInSession firstName lastName  \n",
      "0             0    Sylvie     Cruz  \n",
      "1             1    Sylvie     Cruz  \n",
      "2             2    Sylvie     Cruz  \n",
      "3             3    Sylvie     Cruz  \n"
     ]
    }
   ],
   "source": [
    "#Query 2: Give me only the following: name of artist, song (sorted by itemInSession) and user (first and last name)\\\n",
    "## for userid = 10, sessionid = 182\n",
    "\n",
    "user_session_query = \"SELECT artist, song, itemInSession, firstName, lastName from user_sessions \\\n",
    "                        WHERE userId = {} AND sessionId = {}\".format(10, 182)\n",
    "\n",
    "#Initiating the dataframe with columns\n",
    "user_session_output = pd.DataFrame(columns  = ['artist','song', 'itemInSession','firstName', 'lastName'])\n",
    "\n",
    "try:\n",
    "    data = session.execute(user_session_query) #executing the query\n",
    "    \n",
    "    #appending values of the query to the dataframe\n",
    "    for index, row in enumerate(data):\n",
    "        user_session_output.loc[index] = [row.artist, row.song, row.iteminsession, row.firstname, row.lastname]\n",
    "    \n",
    "    #printing the values\n",
    "    print(user_session_output)\n",
    "except Exception as e:\n",
    "    print(e)"
   ]
  },
  {
   "cell_type": "code",
   "execution_count": 16,
   "metadata": {
    "editable": true
   },
   "outputs": [
    {
     "name": "stdout",
     "output_type": "stream",
     "text": [
      "    firstName lastName                       song\n",
      "0        Sara  Johnson  All Hands Against His Own\n",
      "1  Jacqueline    Lynch  All Hands Against His Own\n",
      "2       Tegan   Levine  All Hands Against His Own\n"
     ]
    }
   ],
   "source": [
    "#Query 3: Give me every user name (first and last) in my music app history who listened to the song 'All Hands Against His Own'\n",
    "\n",
    "song_users_query = \"SELECT firstName, lastName, song from song_users \\\n",
    "                        WHERE song = '{}'\".format(\"All Hands Against His Own\")\n",
    "\n",
    "#Initiating the dataframe with columns\n",
    "song_users_output = pd.DataFrame(columns  = ['firstName', 'lastName','song'])\n",
    "\n",
    "try:\n",
    "    data = session.execute(song_users_query) #executing the query\n",
    "    \n",
    "    #appending values of the query to the dataframe\n",
    "    for index, row in enumerate(data):\n",
    "        song_users_output.loc[index] = [row.firstname, row.lastname, row.song]\n",
    "    \n",
    "    #printing the values\n",
    "    print(song_users_output)\n",
    "except Exception as e:\n",
    "    print(e)"
   ]
  },
  {
   "cell_type": "markdown",
   "metadata": {
    "editable": true
   },
   "source": [
    "## Drop the tables before closing out the sessions"
   ]
  },
  {
   "cell_type": "code",
   "execution_count": 17,
   "metadata": {
    "editable": true
   },
   "outputs": [],
   "source": [
    "try:\n",
    "    session.execute(\"DROP TABLE music_sessions\")\n",
    "except Exception as e:\n",
    "    print(e)\n",
    "\n",
    "try:\n",
    "    session.execute(\"DROP TABLE user_sessions\")\n",
    "except Exception as e:\n",
    "    print(e)\n",
    "\n",
    "try:\n",
    "    session.execute(\"DROP TABLE song_users\")\n",
    "except Exception as e:\n",
    "    print(e)"
   ]
  },
  {
   "cell_type": "markdown",
   "metadata": {
    "editable": true
   },
   "source": [
    "# Validate tables have been deleted in the keyspace "
   ]
  },
  {
   "cell_type": "code",
   "execution_count": 18,
   "metadata": {
    "editable": true
   },
   "outputs": [],
   "source": [
    "#If all deleted , nothing should be printed\n",
    "tables = session.execute(\"SELECT * FROM system_schema.tables WHERE keyspace_name = 'music'\")\n",
    "for tbl in tables:\n",
    "    print(tbl.table_name)"
   ]
  },
  {
   "cell_type": "markdown",
   "metadata": {
    "editable": true
   },
   "source": [
    "## Closing the session and cluster connection"
   ]
  },
  {
   "cell_type": "code",
   "execution_count": 19,
   "metadata": {
    "editable": true
   },
   "outputs": [],
   "source": [
    "session.shutdown()\n",
    "cluster.shutdown()"
   ]
  }
 ],
 "metadata": {
  "kernelspec": {
   "display_name": "Python 3",
   "language": "python",
   "name": "python3"
  },
  "language_info": {
   "codemirror_mode": {
    "name": "ipython",
    "version": 3
   },
   "file_extension": ".py",
   "mimetype": "text/x-python",
   "name": "python",
   "nbconvert_exporter": "python",
   "pygments_lexer": "ipython3",
   "version": "3.6.3"
  }
 },
 "nbformat": 4,
 "nbformat_minor": 4
}
